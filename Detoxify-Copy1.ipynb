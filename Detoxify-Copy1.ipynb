{
 "cells": [
  {
   "cell_type": "markdown",
   "id": "00189ebf",
   "metadata": {},
   "source": [
    "### Problem Statement: \n",
    "\n",
    "### To build a multi-headed model that’s capable of detecting different types of toxicity like threats, obscenity, insults, and identity-based hate."
   ]
  },
  {
   "cell_type": "markdown",
   "id": "9893e10f",
   "metadata": {},
   "source": [
    "We try to identify whether a comment is toxic or not. A toxic comment is a comment that contains inappropriate or harmful language. For example, a comment that insults someone, threatens them, or makes them feel bad about themselves is a toxic comment.\n",
    "\n",
    "We are going to use a type of artificial intelligence called \"deep learning\" to identify toxic comments. \n",
    "Specifically, we will create two models called \"LSTM\" and \"LSTM-CNN\" to make predictions."
   ]
  },
  {
   "cell_type": "code",
   "execution_count": 1,
   "id": "c03179c8",
   "metadata": {},
   "outputs": [
    {
     "name": "stderr",
     "output_type": "stream",
     "text": [
      "2023-02-22 08:22:57.730019: I tensorflow/core/platform/cpu_feature_guard.cc:193] This TensorFlow binary is optimized with oneAPI Deep Neural Network Library (oneDNN) to use the following CPU instructions in performance-critical operations:  AVX2 FMA\n",
      "To enable them in other operations, rebuild TensorFlow with the appropriate compiler flags.\n"
     ]
    },
    {
     "ename": "ImportError",
     "evalue": "cannot import name 'pad_sequences' from 'keras.preprocessing.sequence' (/Library/Frameworks/Python.framework/Versions/3.9/lib/python3.9/site-packages/keras/preprocessing/sequence.py)",
     "output_type": "error",
     "traceback": [
      "\u001b[0;31m---------------------------------------------------------------------------\u001b[0m",
      "\u001b[0;31mImportError\u001b[0m                               Traceback (most recent call last)",
      "Cell \u001b[0;32mIn [1], line 11\u001b[0m\n\u001b[1;32m      9\u001b[0m \u001b[38;5;28;01mfrom\u001b[39;00m \u001b[38;5;21;01msklearn\u001b[39;00m\u001b[38;5;21;01m.\u001b[39;00m\u001b[38;5;21;01mmodel_selection\u001b[39;00m \u001b[38;5;28;01mimport\u001b[39;00m train_test_split\n\u001b[1;32m     10\u001b[0m \u001b[38;5;28;01mfrom\u001b[39;00m \u001b[38;5;21;01mkeras\u001b[39;00m\u001b[38;5;21;01m.\u001b[39;00m\u001b[38;5;21;01mpreprocessing\u001b[39;00m\u001b[38;5;21;01m.\u001b[39;00m\u001b[38;5;21;01mtext\u001b[39;00m \u001b[38;5;28;01mimport\u001b[39;00m Tokenizer\n\u001b[0;32m---> 11\u001b[0m \u001b[38;5;28;01mfrom\u001b[39;00m \u001b[38;5;21;01mkeras\u001b[39;00m\u001b[38;5;21;01m.\u001b[39;00m\u001b[38;5;21;01mpreprocessing\u001b[39;00m\u001b[38;5;21;01m.\u001b[39;00m\u001b[38;5;21;01msequence\u001b[39;00m \u001b[38;5;28;01mimport\u001b[39;00m pad_sequences\n\u001b[1;32m     12\u001b[0m \u001b[38;5;28;01mfrom\u001b[39;00m \u001b[38;5;21;01mkeras\u001b[39;00m\u001b[38;5;21;01m.\u001b[39;00m\u001b[38;5;21;01mmodels\u001b[39;00m \u001b[38;5;28;01mimport\u001b[39;00m Sequential, Model\n\u001b[1;32m     13\u001b[0m \u001b[38;5;28;01mfrom\u001b[39;00m \u001b[38;5;21;01mkeras\u001b[39;00m\u001b[38;5;21;01m.\u001b[39;00m\u001b[38;5;21;01mlayers\u001b[39;00m \u001b[38;5;28;01mimport\u001b[39;00m Embedding, LSTM, Dense, Input, Dropout, Activation, Conv1D, MaxPooling1D\n",
      "\u001b[0;31mImportError\u001b[0m: cannot import name 'pad_sequences' from 'keras.preprocessing.sequence' (/Library/Frameworks/Python.framework/Versions/3.9/lib/python3.9/site-packages/keras/preprocessing/sequence.py)"
     ]
    }
   ],
   "source": [
    "# Here, we are importing the necessary libraries and modules. \n",
    "# These libraries include Pandas (for data manipulation), NumPy (for numerical operations), \n",
    "# and Keras (for building the deep learning models). We import several Keras layers \n",
    "# and models that we will use later in the code to build the LSTM and LSTM-CNN models.\n",
    "\n",
    "import pandas as pd\n",
    "import numpy as np\n",
    "import matplotlib.pyplot as plt\n",
    "from sklearn.model_selection import train_test_split\n",
    "from keras.preprocessing.text import Tokenizer\n",
    "from keras.preprocessing.sequence import pad_sequences\n",
    "from keras.models import Sequential, Model\n",
    "from keras.layers import Embedding, LSTM, Dense, Input, Dropout, Activation, Conv1D, MaxPooling1D\n",
    "from keras.callbacks import EarlyStopping"
   ]
  },
  {
   "cell_type": "code",
   "execution_count": 2,
   "id": "f096e683",
   "metadata": {},
   "outputs": [],
   "source": [
    "# https://www.kaggle.com/competitions/jigsaw-multilingual-toxic-comment-classification/data\n",
    "# Here, we are loading the dataset we will use to train and test the models. \n",
    "# The dataset is a CSV file named 'jigsaw-toxic-comment-train-processed-seqlen128.csv'.\n",
    "\n",
    "df = pd.read_csv(\"/Users/sarju/Desktop/Projects_2023/Toxic_Comment_Classification/jigsaw-toxic-comment-train-processed-seqlen128.csv\")"
   ]
  },
  {
   "cell_type": "code",
   "execution_count": 3,
   "id": "fbb8bc7b",
   "metadata": {},
   "outputs": [
    {
     "data": {
      "text/html": [
       "<div>\n",
       "<style scoped>\n",
       "    .dataframe tbody tr th:only-of-type {\n",
       "        vertical-align: middle;\n",
       "    }\n",
       "\n",
       "    .dataframe tbody tr th {\n",
       "        vertical-align: top;\n",
       "    }\n",
       "\n",
       "    .dataframe thead th {\n",
       "        text-align: right;\n",
       "    }\n",
       "</style>\n",
       "<table border=\"1\" class=\"dataframe\">\n",
       "  <thead>\n",
       "    <tr style=\"text-align: right;\">\n",
       "      <th></th>\n",
       "      <th>id</th>\n",
       "      <th>comment_text</th>\n",
       "      <th>toxic</th>\n",
       "      <th>severe_toxic</th>\n",
       "      <th>obscene</th>\n",
       "      <th>threat</th>\n",
       "      <th>insult</th>\n",
       "      <th>identity_hate</th>\n",
       "      <th>input_word_ids</th>\n",
       "      <th>input_mask</th>\n",
       "      <th>all_segment_id</th>\n",
       "    </tr>\n",
       "  </thead>\n",
       "  <tbody>\n",
       "    <tr>\n",
       "      <th>0</th>\n",
       "      <td>0000997932d777bf</td>\n",
       "      <td>Explanation\\nWhy the edits made under my usern...</td>\n",
       "      <td>0</td>\n",
       "      <td>0</td>\n",
       "      <td>0</td>\n",
       "      <td>0</td>\n",
       "      <td>0</td>\n",
       "      <td>0</td>\n",
       "      <td>(101, 27746, 31609, 11809, 24781, 10105, 70971...</td>\n",
       "      <td>(1, 1, 1, 1, 1, 1, 1, 1, 1, 1, 1, 1, 1, 1, 1, ...</td>\n",
       "      <td>(0, 0, 0, 0, 0, 0, 0, 0, 0, 0, 0, 0, 0, 0, 0, ...</td>\n",
       "    </tr>\n",
       "    <tr>\n",
       "      <th>1</th>\n",
       "      <td>000103f0d9cfb60f</td>\n",
       "      <td>D'aww! He matches this background colour I'm s...</td>\n",
       "      <td>0</td>\n",
       "      <td>0</td>\n",
       "      <td>0</td>\n",
       "      <td>0</td>\n",
       "      <td>0</td>\n",
       "      <td>0</td>\n",
       "      <td>(101, 141, 112, 56237, 10874, 106, 10357, 1825...</td>\n",
       "      <td>(1, 1, 1, 1, 1, 1, 1, 1, 1, 1, 1, 1, 1, 1, 1, ...</td>\n",
       "      <td>(0, 0, 0, 0, 0, 0, 0, 0, 0, 0, 0, 0, 0, 0, 0, ...</td>\n",
       "    </tr>\n",
       "    <tr>\n",
       "      <th>2</th>\n",
       "      <td>000113f07ec002fd</td>\n",
       "      <td>Hey man, I'm really not trying to edit war. It...</td>\n",
       "      <td>0</td>\n",
       "      <td>0</td>\n",
       "      <td>0</td>\n",
       "      <td>0</td>\n",
       "      <td>0</td>\n",
       "      <td>0</td>\n",
       "      <td>(101, 35936, 10817, 117, 146, 112, 181, 30181,...</td>\n",
       "      <td>(1, 1, 1, 1, 1, 1, 1, 1, 1, 1, 1, 1, 1, 1, 1, ...</td>\n",
       "      <td>(0, 0, 0, 0, 0, 0, 0, 0, 0, 0, 0, 0, 0, 0, 0, ...</td>\n",
       "    </tr>\n",
       "    <tr>\n",
       "      <th>3</th>\n",
       "      <td>0001b41b1c6bb37e</td>\n",
       "      <td>\"\\nMore\\nI can't make any real suggestions on ...</td>\n",
       "      <td>0</td>\n",
       "      <td>0</td>\n",
       "      <td>0</td>\n",
       "      <td>0</td>\n",
       "      <td>0</td>\n",
       "      <td>0</td>\n",
       "      <td>(101, 107, 15946, 146, 10944, 112, 188, 13086,...</td>\n",
       "      <td>(1, 1, 1, 1, 1, 1, 1, 1, 1, 1, 1, 1, 1, 1, 1, ...</td>\n",
       "      <td>(0, 0, 0, 0, 0, 0, 0, 0, 0, 0, 0, 0, 0, 0, 0, ...</td>\n",
       "    </tr>\n",
       "    <tr>\n",
       "      <th>4</th>\n",
       "      <td>0001d958c54c6e35</td>\n",
       "      <td>You, sir, are my hero. Any chance you remember...</td>\n",
       "      <td>0</td>\n",
       "      <td>0</td>\n",
       "      <td>0</td>\n",
       "      <td>0</td>\n",
       "      <td>0</td>\n",
       "      <td>0</td>\n",
       "      <td>(101, 11065, 117, 52523, 117, 10301, 15127, 51...</td>\n",
       "      <td>(1, 1, 1, 1, 1, 1, 1, 1, 1, 1, 1, 1, 1, 1, 1, ...</td>\n",
       "      <td>(0, 0, 0, 0, 0, 0, 0, 0, 0, 0, 0, 0, 0, 0, 0, ...</td>\n",
       "    </tr>\n",
       "  </tbody>\n",
       "</table>\n",
       "</div>"
      ],
      "text/plain": [
       "                 id                                       comment_text  toxic  \\\n",
       "0  0000997932d777bf  Explanation\\nWhy the edits made under my usern...      0   \n",
       "1  000103f0d9cfb60f  D'aww! He matches this background colour I'm s...      0   \n",
       "2  000113f07ec002fd  Hey man, I'm really not trying to edit war. It...      0   \n",
       "3  0001b41b1c6bb37e  \"\\nMore\\nI can't make any real suggestions on ...      0   \n",
       "4  0001d958c54c6e35  You, sir, are my hero. Any chance you remember...      0   \n",
       "\n",
       "   severe_toxic  obscene  threat  insult  identity_hate  \\\n",
       "0             0        0       0       0              0   \n",
       "1             0        0       0       0              0   \n",
       "2             0        0       0       0              0   \n",
       "3             0        0       0       0              0   \n",
       "4             0        0       0       0              0   \n",
       "\n",
       "                                      input_word_ids  \\\n",
       "0  (101, 27746, 31609, 11809, 24781, 10105, 70971...   \n",
       "1  (101, 141, 112, 56237, 10874, 106, 10357, 1825...   \n",
       "2  (101, 35936, 10817, 117, 146, 112, 181, 30181,...   \n",
       "3  (101, 107, 15946, 146, 10944, 112, 188, 13086,...   \n",
       "4  (101, 11065, 117, 52523, 117, 10301, 15127, 51...   \n",
       "\n",
       "                                          input_mask  \\\n",
       "0  (1, 1, 1, 1, 1, 1, 1, 1, 1, 1, 1, 1, 1, 1, 1, ...   \n",
       "1  (1, 1, 1, 1, 1, 1, 1, 1, 1, 1, 1, 1, 1, 1, 1, ...   \n",
       "2  (1, 1, 1, 1, 1, 1, 1, 1, 1, 1, 1, 1, 1, 1, 1, ...   \n",
       "3  (1, 1, 1, 1, 1, 1, 1, 1, 1, 1, 1, 1, 1, 1, 1, ...   \n",
       "4  (1, 1, 1, 1, 1, 1, 1, 1, 1, 1, 1, 1, 1, 1, 1, ...   \n",
       "\n",
       "                                      all_segment_id  \n",
       "0  (0, 0, 0, 0, 0, 0, 0, 0, 0, 0, 0, 0, 0, 0, 0, ...  \n",
       "1  (0, 0, 0, 0, 0, 0, 0, 0, 0, 0, 0, 0, 0, 0, 0, ...  \n",
       "2  (0, 0, 0, 0, 0, 0, 0, 0, 0, 0, 0, 0, 0, 0, 0, ...  \n",
       "3  (0, 0, 0, 0, 0, 0, 0, 0, 0, 0, 0, 0, 0, 0, 0, ...  \n",
       "4  (0, 0, 0, 0, 0, 0, 0, 0, 0, 0, 0, 0, 0, 0, 0, ...  "
      ]
     },
     "execution_count": 3,
     "metadata": {},
     "output_type": "execute_result"
    }
   ],
   "source": [
    "df.head()"
   ]
  },
  {
   "cell_type": "code",
   "execution_count": 4,
   "id": "91308023",
   "metadata": {},
   "outputs": [
    {
     "data": {
      "text/plain": [
       "id                0\n",
       "comment_text      0\n",
       "toxic             0\n",
       "severe_toxic      0\n",
       "obscene           0\n",
       "threat            0\n",
       "insult            0\n",
       "identity_hate     0\n",
       "input_word_ids    0\n",
       "input_mask        0\n",
       "all_segment_id    0\n",
       "dtype: int64"
      ]
     },
     "execution_count": 4,
     "metadata": {},
     "output_type": "execute_result"
    }
   ],
   "source": [
    "# checking if null values are present or not\n",
    "\n",
    "df.isnull().sum()"
   ]
  },
  {
   "cell_type": "code",
   "execution_count": 5,
   "id": "294eb8c1",
   "metadata": {},
   "outputs": [
    {
     "data": {
      "text/plain": [
       "0    Explanation\\nWhy the edits made under my usern...\n",
       "1    D'aww! He matches this background colour I'm s...\n",
       "2    Hey man, I'm really not trying to edit war. It...\n",
       "3    \"\\nMore\\nI can't make any real suggestions on ...\n",
       "4    You, sir, are my hero. Any chance you remember...\n",
       "Name: comment_text, dtype: object"
      ]
     },
     "execution_count": 5,
     "metadata": {},
     "output_type": "execute_result"
    }
   ],
   "source": [
    "df['comment_text'].head()"
   ]
  },
  {
   "cell_type": "code",
   "execution_count": 6,
   "id": "57dfbc0c",
   "metadata": {
    "scrolled": true
   },
   "outputs": [
    {
     "data": {
      "text/plain": [
       "0    0\n",
       "1    0\n",
       "2    0\n",
       "3    0\n",
       "4    0\n",
       "Name: toxic, dtype: int64"
      ]
     },
     "execution_count": 6,
     "metadata": {},
     "output_type": "execute_result"
    }
   ],
   "source": [
    "df['toxic'].head()"
   ]
  },
  {
   "cell_type": "code",
   "execution_count": 8,
   "id": "ec17cb82",
   "metadata": {},
   "outputs": [
    {
     "data": {
      "text/plain": [
       "array([0, 1])"
      ]
     },
     "execution_count": 8,
     "metadata": {},
     "output_type": "execute_result"
    }
   ],
   "source": [
    "df.toxic.unique()"
   ]
  },
  {
   "cell_type": "code",
   "execution_count": 9,
   "id": "b96f586d",
   "metadata": {},
   "outputs": [],
   "source": [
    "X = df['comment_text'].values\n",
    "y = df['toxic'].values"
   ]
  },
  {
   "cell_type": "code",
   "execution_count": 14,
   "id": "34e66ea1",
   "metadata": {},
   "outputs": [],
   "source": [
    "from keras_preprocessing.sequence import pad_sequences\n",
    "\n",
    "tokenizer = Tokenizer(num_words=10000)\n",
    "tokenizer.fit_on_texts(X)\n",
    "sequences = tokenizer.texts_to_sequences(X)\n",
    "X = pad_sequences(sequences, maxlen=128)"
   ]
  },
  {
   "cell_type": "code",
   "execution_count": 15,
   "id": "3d5ec2c0",
   "metadata": {},
   "outputs": [],
   "source": [
    "X_train, X_test, y_train, y_test = train_test_split(X, y, test_size=0.2, random_state=42)"
   ]
  },
  {
   "cell_type": "code",
   "execution_count": 21,
   "id": "8b7169ac",
   "metadata": {},
   "outputs": [],
   "source": [
    "from keras.layers import *\n",
    "from keras.models import *\n",
    "\n",
    "# LSTM model\n",
    "model_lstm = Sequential()\n",
    "model_lstm.add(Embedding(input_dim=10000, output_dim=128, input_length=128))\n",
    "model_lstm.add(LSTM(128))\n",
    "model_lstm.add(Dense(1, activation='sigmoid'))\n",
    "model_lstm.compile(loss='binary_crossentropy', optimizer='adam', metrics=['accuracy'])\n"
   ]
  },
  {
   "cell_type": "code",
   "execution_count": 24,
   "id": "8020b5d5",
   "metadata": {},
   "outputs": [
    {
     "name": "stdout",
     "output_type": "stream",
     "text": [
      "Epoch 1/5\n",
      "2236/2236 [==============================] - 327s 146ms/step - loss: 0.1560 - accuracy: 0.9446 - val_loss: 0.1217 - val_accuracy: 0.9555\n",
      "Epoch 2/5\n",
      "2236/2236 [==============================] - 335s 150ms/step - loss: 0.1122 - accuracy: 0.9567 - val_loss: 0.1136 - val_accuracy: 0.9570\n",
      "Epoch 3/5\n",
      "2236/2236 [==============================] - 374s 167ms/step - loss: 0.0975 - accuracy: 0.9616 - val_loss: 0.1176 - val_accuracy: 0.9557\n",
      "Epoch 4/5\n",
      "2236/2236 [==============================] - 354s 158ms/step - loss: 0.0820 - accuracy: 0.9676 - val_loss: 0.1389 - val_accuracy: 0.9536\n",
      "Epoch 5/5\n",
      "2236/2236 [==============================] - 373s 167ms/step - loss: 0.0670 - accuracy: 0.9731 - val_loss: 0.1541 - val_accuracy: 0.9516\n"
     ]
    }
   ],
   "source": [
    "from keras.callbacks import ModelCheckpoint, EarlyStopping\n",
    "\n",
    "history_lstm = model_lstm.fit(X_train, y_train, batch_size=64, epochs=5, validation_split=0.2, callbacks=[EarlyStopping(monitor='val_loss', patience=3, min_delta=0.0001)])\n"
   ]
  },
  {
   "cell_type": "code",
   "execution_count": 26,
   "id": "5cafbcc4",
   "metadata": {},
   "outputs": [
    {
     "name": "stdout",
     "output_type": "stream",
     "text": [
      "1398/1398 [==============================] - 39s 28ms/step - loss: 0.1572 - accuracy: 0.9511\n",
      "LSTM test accuracy: 0.9510847926139832\n"
     ]
    }
   ],
   "source": [
    "lstm_scores = model_lstm.evaluate(X_test, y_test)\n",
    "print(\"LSTM test accuracy:\", lstm_scores[1])"
   ]
  },
  {
   "cell_type": "code",
   "execution_count": 27,
   "id": "1d58b134",
   "metadata": {},
   "outputs": [],
   "source": [
    "# LSTM-CNN model\n",
    "inputs = Input(shape=(128,))\n",
    "x = Embedding(input_dim=10000, output_dim=128, input_length=128)(inputs)\n",
    "x = Conv1D(64, 5, activation='relu')(x)\n",
    "x = MaxPooling1D(pool_size=4)(x)\n",
    "x = LSTM(128)(x)\n",
    "x = Dense(64, activation='relu')(x)\n",
    "x = Dropout(0.5)(x)\n",
    "outputs = Dense(1, activation='sigmoid')(x)\n",
    "model_lstm_cnn = Model(inputs=inputs, outputs=outputs)\n",
    "model_lstm_cnn.compile(loss='binary_crossentropy', optimizer='adam', metrics=['accuracy'])\n"
   ]
  },
  {
   "cell_type": "code",
   "execution_count": 29,
   "id": "3551c986",
   "metadata": {},
   "outputs": [
    {
     "name": "stdout",
     "output_type": "stream",
     "text": [
      "Epoch 1/5\n",
      "2236/2236 [==============================] - 161s 71ms/step - loss: 0.1482 - accuracy: 0.9471 - val_loss: 0.1176 - val_accuracy: 0.9566\n",
      "Epoch 2/5\n",
      "2236/2236 [==============================] - 188s 84ms/step - loss: 0.1056 - accuracy: 0.9595 - val_loss: 0.1142 - val_accuracy: 0.9567\n",
      "Epoch 3/5\n",
      "2236/2236 [==============================] - 208s 93ms/step - loss: 0.0804 - accuracy: 0.9689 - val_loss: 0.1305 - val_accuracy: 0.9533\n",
      "Epoch 4/5\n",
      "2236/2236 [==============================] - 212s 95ms/step - loss: 0.0514 - accuracy: 0.9803 - val_loss: 0.1720 - val_accuracy: 0.9494\n",
      "Epoch 5/5\n",
      "2236/2236 [==============================] - 237s 106ms/step - loss: 0.0309 - accuracy: 0.9888 - val_loss: 0.2428 - val_accuracy: 0.9432\n"
     ]
    }
   ],
   "source": [
    "# Train the model\n",
    "history_lstm_cnn = model_lstm_cnn.fit(X_train, y_train, batch_size=64, epochs=5, validation_split=0.2, callbacks=[EarlyStopping(monitor='val_loss', patience=3, min_delta=0.0001)])"
   ]
  },
  {
   "cell_type": "code",
   "execution_count": 31,
   "id": "ceeab92b",
   "metadata": {},
   "outputs": [
    {
     "name": "stdout",
     "output_type": "stream",
     "text": [
      "1398/1398 [==============================] - 15s 10ms/step - loss: 0.2489 - accuracy: 0.9437\n",
      "LSTM-CNN test accuracy: 0.9436591267585754\n"
     ]
    }
   ],
   "source": [
    "lstm_cnn_scores = model_lstm_cnn.evaluate(X_test, y_test)\n",
    "print(\"LSTM-CNN test accuracy:\", lstm_cnn_scores[1])\n"
   ]
  },
  {
   "cell_type": "code",
   "execution_count": 32,
   "id": "801facb5",
   "metadata": {},
   "outputs": [
    {
     "data": {
      "image/png": "[encoded data removed]",
      "text/plain": [
       "<Figure size 640x480 with 1 Axes>"
      ]
     },
     "metadata": {},
     "output_type": "display_data"
    }
   ],
   "source": [
    "# Plot training history\n",
    "plt.plot(history_lstm.history['accuracy'])\n",
    "plt.plot(history_lstm.history['val_accuracy'])\n",
    "plt.plot(history_lstm_cnn.history['accuracy'])\n",
    "plt.plot(history_lstm_cnn.history['val_accuracy'])\n",
    "plt.title('Model Accuracy')\n",
    "plt.ylabel('Accuracy')\n",
    "plt.xlabel('Epoch')\n",
    "plt.legend(['LSTM Train', 'LSTM Val', 'LSTM-CNN Train', 'LSTM-CNN Val'], loc='upper left')\n",
    "plt.show()"
   ]
  },
  {
   "cell_type": "code",
   "execution_count": 33,
   "id": "b44634a5",
   "metadata": {},
   "outputs": [
    {
     "name": "stdout",
     "output_type": "stream",
     "text": [
      "1/1 [==============================] - 1s 549ms/step\n",
      "Toxic: No\n"
     ]
    }
   ],
   "source": [
    "comment = \"Sam is a good boy\"\n",
    "comment_seq = tokenizer.texts_to_sequences([comment])\n",
    "comment_seq = pad_sequences(comment_seq, maxlen=128)\n",
    "\n",
    "pred_lstm = model_lstm.predict(comment_seq)\n",
    "\n",
    "print('Toxic:', 'Yes' if pred_lstm[0][0]>0.5 else 'No')\n"
   ]
  },
  {
   "cell_type": "code",
   "execution_count": 34,
   "id": "8ee8a8c6",
   "metadata": {},
   "outputs": [
    {
     "name": "stdout",
     "output_type": "stream",
     "text": [
      "1/1 [==============================] - 0s 28ms/step\n",
      "Toxic: No\n"
     ]
    }
   ],
   "source": [
    "comment = \"Get the hell out of here!\"\n",
    "comment_seq = tokenizer.texts_to_sequences([comment])\n",
    "comment_seq = pad_sequences(comment_seq, maxlen=128)\n",
    "\n",
    "pred_lstm = model_lstm.predict(comment_seq)\n",
    "\n",
    "print('Toxic:', 'Yes' if pred_lstm[0][0]>0.5 else 'No')\n"
   ]
  },
  {
   "cell_type": "code",
   "execution_count": 35,
   "id": "b5d3f1c8",
   "metadata": {},
   "outputs": [
    {
     "name": "stdout",
     "output_type": "stream",
     "text": [
      "1/1 [==============================] - 0s 23ms/step\n",
      "Toxic: Yes\n"
     ]
    }
   ],
   "source": [
    "comment = \"Nobody is going to talk with you because you are a liar\"\n",
    "comment_seq = tokenizer.texts_to_sequences([comment])\n",
    "comment_seq = pad_sequences(comment_seq, maxlen=128)\n",
    "\n",
    "pred_lstm = model_lstm.predict(comment_seq)\n",
    "\n",
    "print('Toxic:', 'Yes' if pred_lstm[0][0]>0.5 else 'No')\n"
   ]
  },
  {
   "cell_type": "code",
   "execution_count": null,
   "id": "4dfb46d5",
   "metadata": {},
   "outputs": [],
   "source": [
    "# checking the lstm_cnn model with the help of an example"
   ]
  },
  {
   "cell_type": "code",
   "execution_count": 37,
   "id": "af7c414a",
   "metadata": {},
   "outputs": [
    {
     "name": "stdout",
     "output_type": "stream",
     "text": [
      "1/1 [==============================] - 0s 394ms/step\n",
      "Toxic: No\n"
     ]
    }
   ],
   "source": [
    "comment = \"Don't try to act smart\"\n",
    "comment_seq = tokenizer.texts_to_sequences([comment])\n",
    "comment_seq = pad_sequences(comment_seq, maxlen=128)\n",
    "\n",
    "pred_lstm_cnn = model_lstm_cnn.predict(comment_seq)\n",
    "\n",
    "print('Toxic:', 'Yes' if pred_lstm_cnn[0][0]>0.5 else 'No')"
   ]
  },
  {
   "cell_type": "code",
   "execution_count": 39,
   "id": "395d14d8",
   "metadata": {},
   "outputs": [
    {
     "name": "stdout",
     "output_type": "stream",
     "text": [
      "1/1 [==============================] - 0s 18ms/step\n",
      "Toxic: Yes\n"
     ]
    }
   ],
   "source": [
    "comment = \"Get the hell out of here\"\n",
    "comment_seq = tokenizer.texts_to_sequences([comment])\n",
    "comment_seq = pad_sequences(comment_seq, maxlen=128)\n",
    "\n",
    "pred_lstm_cnn = model_lstm_cnn.predict(comment_seq)\n",
    "\n",
    "print('Toxic:', 'Yes' if pred_lstm_cnn[0][0]>0.5 else 'No')"
   ]
  },
  {
   "cell_type": "code",
   "execution_count": 40,
   "id": "8bdccde1",
   "metadata": {},
   "outputs": [
    {
     "name": "stdout",
     "output_type": "stream",
     "text": [
      "1/1 [==============================] - 0s 21ms/step\n",
      "Toxic: No\n"
     ]
    }
   ],
   "source": [
    "comment = \"I will not let you die, trust me\"\n",
    "comment_seq = tokenizer.texts_to_sequences([comment])\n",
    "comment_seq = pad_sequences(comment_seq, maxlen=128)\n",
    "\n",
    "pred_lstm_cnn = model_lstm_cnn.predict(comment_seq)\n",
    "\n",
    "print('Toxic:', 'Yes' if pred_lstm_cnn[0][0]>0.5 else 'No')"
   ]
  },
  {
   "cell_type": "code",
   "execution_count": 42,
   "id": "edee89c2",
   "metadata": {},
   "outputs": [
    {
     "name": "stdout",
     "output_type": "stream",
     "text": [
      "1/1 [==============================] - 0s 19ms/step\n",
      "Toxic: Yes\n"
     ]
    }
   ],
   "source": [
    "comment = \"I will kill you...\"\n",
    "comment_seq = tokenizer.texts_to_sequences([comment])\n",
    "comment_seq = pad_sequences(comment_seq, maxlen=128)\n",
    "x\n",
    "pred_lstm_cnn = model_lstm_cnn.predict(comment_seq)\n",
    "\n",
    "print('Toxic:', 'Yes' if pred_lstm_cnn[0][0]>0.5 else 'No')"
   ]
  }
 ],
 "metadata": {
  "kernelspec": {
   "display_name": "Python 3 (ipykernel)",
   "language": "python",
   "name": "python3"
  },
  "language_info": {
   "codemirror_mode": {
    "name": "ipython",
    "version": 3
   },
   "file_extension": ".py",
   "mimetype": "text/x-python",
   "name": "python",
   "nbconvert_exporter": "python",
   "pygments_lexer": "ipython3",
   "version": "3.10.11"
  }
 },
 "nbformat": 4,
 "nbformat_minor": 5
}
